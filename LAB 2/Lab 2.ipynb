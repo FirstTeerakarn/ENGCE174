{
  "nbformat": 4,
  "nbformat_minor": 0,
  "metadata": {
    "colab": {
      "provenance": []
    },
    "kernelspec": {
      "name": "python3",
      "display_name": "Python 3"
    },
    "language_info": {
      "name": "python"
    }
  },
  "cells": [
    {
      "cell_type": "code",
      "source": [
        "n = 5 # กำหนดค่าตัวแปล n\n",
        "\n",
        "while True:\n",
        "  num_input = input(\"กดเลขที่ต้องการ : \" )\n",
        "  if num_input == '5':  # เช็คตัวเลขว่าตรงกับที่กรอกไปหรือป่าว\n",
        "    for i in range(1, n+1):\n",
        "      print('* ' * i)\n",
        "    print(\"------------------------\")\n",
        "    for i in range(n, 0, -1):\n",
        "      print('* ' * i)\n",
        "    print(\"------------------------\")\n",
        "    for i in range(1, n+1):\n",
        "      print('  ' * (n - i) + '*  ' * i)\n",
        "    print(\"------------------------\")\n",
        "    for i in range(n, 0, -1):\n",
        "      print('  ' * (n - i) + '*  ' * i)\n",
        "    print(\"------------------------\")\n",
        "    for i in range(1, n+1):\n",
        "      print('    ' * (n - i) + '*  ' * i )\n",
        "    print(\"------------------------\")\n",
        "    break"
      ],
      "metadata": {
        "colab": {
          "base_uri": "https://localhost:8080/"
        },
        "id": "nLnK4P6T-HPe",
        "outputId": "dffbb1dd-8874-4a52-a6e3-40696f219d8f"
      },
      "execution_count": 117,
      "outputs": [
        {
          "output_type": "stream",
          "name": "stdout",
          "text": [
            "กดเลขที่ต้องการ : 5\n",
            "* \n",
            "* * \n",
            "* * * \n",
            "* * * * \n",
            "* * * * * \n",
            "------------------------\n",
            "* * * * * \n",
            "* * * * \n",
            "* * * \n",
            "* * \n",
            "* \n",
            "------------------------\n",
            "        *  \n",
            "      *  *  \n",
            "    *  *  *  \n",
            "  *  *  *  *  \n",
            "*  *  *  *  *  \n",
            "------------------------\n",
            "*  *  *  *  *  \n",
            "  *  *  *  *  \n",
            "    *  *  *  \n",
            "      *  *  \n",
            "        *  \n",
            "------------------------\n",
            "                *  \n",
            "            *  *  \n",
            "        *  *  *  \n",
            "    *  *  *  *  \n",
            "*  *  *  *  *  \n",
            "------------------------\n"
          ]
        }
      ]
    },
    {
      "cell_type": "code",
      "source": [
        "n = int(input(\"INPUT NUMBER : \"))\n",
        "def print_row(row, max_row):\n",
        "    if row < max_row:\n",
        "        print('* ' * (row + 1))\n",
        "        print_row(row + 1, max_row)\n",
        "\n",
        "def print_reverse_row(row):\n",
        "    if row > 0:\n",
        "        print('* ' * row)\n",
        "        print_reverse_row(row - 1)\n",
        "\n",
        "def print_right_aligned_row(row, max_row):\n",
        "    if row <= max_row:\n",
        "        print(' ' * (max_row - row) + '* ' * row)\n",
        "        print_right_aligned_row(row + 1, max_row)\n",
        "\n",
        "def print_left_aligned_row(row, max_row):\n",
        "    if row <= max_row:\n",
        "        print(' ' * row + '* ' * (max_row - row))\n",
        "        print_left_aligned_row(row + 1, max_row)\n",
        "\n",
        "def print_pyramid_row(row, max_row):\n",
        "    if row <= max_row:\n",
        "        print('  ' * (max_row - row) + '* ' * row)\n",
        "        print_pyramid_row(row + 1, max_row)\n",
        "\n",
        "print_row(0, n)\n",
        "print(\"------------------------------------\")\n",
        "print_reverse_row(n)\n",
        "print(\"------------------------------------\")\n",
        "print_right_aligned_row(1, n)\n",
        "print(\"------------------------------------\")\n",
        "print_left_aligned_row(0, n)\n",
        "print(\"------------------------------------\")\n",
        "print_pyramid_row(1, n)\n",
        "print(\"------------------------------------\")"
      ],
      "metadata": {
        "colab": {
          "base_uri": "https://localhost:8080/"
        },
        "id": "kKcbEmtMDIMI",
        "outputId": "36e9caab-6e61-47a5-ba99-3f4dc2c6bebb"
      },
      "execution_count": 119,
      "outputs": [
        {
          "output_type": "stream",
          "name": "stdout",
          "text": [
            "INPUT NUMBER : 5\n",
            "* \n",
            "* * \n",
            "* * * \n",
            "* * * * \n",
            "* * * * * \n",
            "------------------------------------\n",
            "* * * * * \n",
            "* * * * \n",
            "* * * \n",
            "* * \n",
            "* \n",
            "------------------------------------\n",
            "    * \n",
            "   * * \n",
            "  * * * \n",
            " * * * * \n",
            "* * * * * \n",
            "------------------------------------\n",
            "* * * * * \n",
            " * * * * \n",
            "  * * * \n",
            "   * * \n",
            "    * \n",
            "     \n",
            "------------------------------------\n",
            "        * \n",
            "      * * \n",
            "    * * * \n",
            "  * * * * \n",
            "* * * * * \n",
            "------------------------------------\n"
          ]
        }
      ]
    },
    {
      "cell_type": "code",
      "source": [],
      "metadata": {
        "id": "10MRH2u3Ds2T"
      },
      "execution_count": null,
      "outputs": []
    }
  ]
}