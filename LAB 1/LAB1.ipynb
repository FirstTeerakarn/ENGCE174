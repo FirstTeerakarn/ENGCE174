{
  "nbformat": 4,
  "nbformat_minor": 0,
  "metadata": {
    "colab": {
      "provenance": [],
      "authorship_tag": "ABX9TyNDSgkk/PKCgSuf8v5yus1d",
      "include_colab_link": true
    },
    "kernelspec": {
      "name": "python3",
      "display_name": "Python 3"
    },
    "language_info": {
      "name": "python"
    }
  },
  "cells": [
    {
      "cell_type": "markdown",
      "metadata": {
        "id": "view-in-github",
        "colab_type": "text"
      },
      "source": [
        "<a href=\"https://colab.research.google.com/github/FirstTeerakarn/ENGCE174/blob/main/LAB1.ipynb\" target=\"_parent\"><img src=\"https://colab.research.google.com/assets/colab-badge.svg\" alt=\"Open In Colab\"/></a>"
      ]
    },
    {
      "cell_type": "code",
      "execution_count": null,
      "metadata": {
        "id": "n9YRaCn_sIhK"
      },
      "outputs": [],
      "source": [
        "#List Comprehension\n",
        "squares = [x**2 for x in range(10)]\n",
        "\n",
        "#Dictionary comprehension\n",
        "square_dict ={x: x**2 for x in range(5)}\n",
        "\n",
        "#set comprehension\n",
        "even_squares = {x**2 for x in range(10) if x % 2 == 0}"
      ]
    },
    {
      "cell_type": "code",
      "source": [
        "square = lambda x: x**2\n",
        "print(square(5)) # output: 25"
      ],
      "metadata": {
        "colab": {
          "base_uri": "https://localhost:8080/"
        },
        "id": "-anrKIRLwdBJ",
        "outputId": "a32b5efb-079a-429c-b8d5-b522310a16bb"
      },
      "execution_count": null,
      "outputs": [
        {
          "output_type": "stream",
          "name": "stdout",
          "text": [
            "25\n"
          ]
        }
      ]
    },
    {
      "cell_type": "code",
      "source": [
        "def fibonacci():\n",
        "  a, b = 0, 1\n",
        "  while True:\n",
        "    yield a\n",
        "    a, b = b, a + b\n",
        "\n",
        "fib = fibonacci()\n",
        "print(next(fib))\n",
        "print(next(fib))"
      ],
      "metadata": {
        "colab": {
          "base_uri": "https://localhost:8080/"
        },
        "id": "kWFltDDOwqov",
        "outputId": "9ffe514b-36f3-4333-c1aa-2aa0628d4947"
      },
      "execution_count": null,
      "outputs": [
        {
          "output_type": "stream",
          "name": "stdout",
          "text": [
            "0\n",
            "1\n"
          ]
        }
      ]
    },
    {
      "cell_type": "code",
      "source": [
        "#List initialization\n",
        "numbers = [1, 2, 3, 4, 5]\n",
        "\n",
        "#Accesing elements\n",
        "print(\"First element:\", numbers[0]) #OUTPUT: 1\n",
        "print(\"last element:\", numbers[-1]) #OUTPUT: 5\n",
        "\n",
        "#Slicing\n",
        "print(\"Sliced elements:\", numbers[2:4]) #Output:[3, 4]\n",
        "\n",
        "#Appending and extending\n",
        "numbers.append(6)\n",
        "print(\"After append:\", numbers) #Output: [1, 2, 3, 4, 5, 6]\n",
        "\n",
        "#Removing element\n",
        "numbers.remove(3)\n",
        "print(\"After removal:\", numbers) #Output: [1, 2, 4, 5, 6]"
      ],
      "metadata": {
        "colab": {
          "base_uri": "https://localhost:8080/"
        },
        "id": "tmhbaCdZxGyo",
        "outputId": "e295b730-4fee-4d64-d0ce-a0be5c299e78"
      },
      "execution_count": null,
      "outputs": [
        {
          "output_type": "stream",
          "name": "stdout",
          "text": [
            "First element: 1\n",
            "last element: 5\n",
            "Sliced elements: [3, 4]\n",
            "After append: [1, 2, 3, 4, 5, 6]\n",
            "After removal: [1, 2, 4, 5, 6]\n"
          ]
        }
      ]
    },
    {
      "cell_type": "code",
      "source": [
        "#List comprehension to create a list of squares of even numbers\n",
        "even_numbers = [x for x in range(10) if x % 2==0 ]\n",
        "squares = [num**2 for num in even_numbers]\n",
        "print(\"squares of even numbers:\", squares) # Output: [0, 4, 16, 36, 64]"
      ],
      "metadata": {
        "colab": {
          "base_uri": "https://localhost:8080/"
        },
        "id": "gthfXsVYx-6f",
        "outputId": "82499117-2e2e-4535-be5b-dae06c8d47d2"
      },
      "execution_count": null,
      "outputs": [
        {
          "output_type": "stream",
          "name": "stdout",
          "text": [
            "squares of even numbers: [0, 4, 16, 36, 64]\n"
          ]
        }
      ]
    },
    {
      "cell_type": "code",
      "source": [
        "names = [\"Alice\",\"Bob\",\"Charlie\"]\n",
        "ages = [25, 30, 35]\n",
        "city = [\"New York\",\"Los Angeles\",\"Chicago\"]\n",
        "\n",
        "#Using zip() FOR PARALLEL ITERATION\n",
        "for name, age, city in zip(names, ages, city):\n",
        "  print(f\"{name} is {age} years old and lives in {city}\")"
      ],
      "metadata": {
        "colab": {
          "base_uri": "https://localhost:8080/"
        },
        "id": "rl05z88L0aq1",
        "outputId": "484c1228-ab65-47a8-bab6-101be17d3836"
      },
      "execution_count": null,
      "outputs": [
        {
          "output_type": "stream",
          "name": "stdout",
          "text": [
            "Alice is 25 years old and lives in New York\n",
            "Bob is 30 years old and lives in Los Angeles\n",
            "Charlie is 35 years old and lives in Chicago\n"
          ]
        }
      ]
    },
    {
      "cell_type": "code",
      "source": [
        "#Tuple initialization\n",
        "coordinates = (3, 5)\n",
        "\n",
        "#Unpacking tuples\n",
        "x, y = coordinates\n",
        "print(\"x-coordinate:\", x) #Output: 3\n",
        "print(\"y-coordinate:\", y) #Output: 5\n",
        "\n",
        "#Tuple as keys in dictionary\n",
        "location = {(3, 5): \"Home\", (10, 20): \"office\"}\n",
        "print(\"Location at (3, 5):\", location[(3, 5)]) #output: Home"
      ],
      "metadata": {
        "colab": {
          "base_uri": "https://localhost:8080/"
        },
        "id": "JZweeT1g1jK2",
        "outputId": "5b2c1cf4-f6df-49cb-9711-3c73288de262"
      },
      "execution_count": null,
      "outputs": [
        {
          "output_type": "stream",
          "name": "stdout",
          "text": [
            "x-coordinate: 3\n",
            "y-coordinate: 5\n",
            "Location at (3, 5): Home\n"
          ]
        }
      ]
    },
    {
      "cell_type": "code",
      "source": [
        "from collections import namedtuple\n",
        "\n",
        "#Define a named tuple\n",
        "Point = namedtuple('Point',['x', 'y'])\n",
        "\n",
        "#Create instances of the named tuple\n",
        "p1 = Point(3, 5)\n",
        "p2 = Point(-1, 2)\n",
        "\n",
        "#Access elements by name\n",
        "print(\"coordinates of p1:\", p1.x, p1.y) #Output: 3 5"
      ],
      "metadata": {
        "colab": {
          "base_uri": "https://localhost:8080/"
        },
        "id": "6ZsjNA1O2Nhz",
        "outputId": "8fd472d3-c9a0-4556-ccee-bbe0bbdd6279"
      },
      "execution_count": null,
      "outputs": [
        {
          "output_type": "stream",
          "name": "stdout",
          "text": [
            "coordinates of p1: 3 5\n"
          ]
        }
      ]
    },
    {
      "cell_type": "code",
      "source": [
        "coordinates = (3, 5)\n"
      ],
      "metadata": {
        "id": "2irN426L4gAZ"
      },
      "execution_count": null,
      "outputs": []
    },
    {
      "cell_type": "code",
      "source": [
        "#Dictionnary initialization\n",
        "person = {'name': 'Alice', 'age': 30, 'city': 'New York' }\n",
        "\n",
        "#Accessing values\n",
        "print (\"Name\", person['name']) # Output: Alice\n",
        "\n",
        "#Updating values\n",
        "person['age'] = 31\n",
        "print(\"Updated age:\", person['age']) #Output: 31\n",
        "\n",
        "#Iterating through keys and values\n",
        "for key, value in person.items():\n",
        "  print(f\"{key}:{value}\")"
      ],
      "metadata": {
        "colab": {
          "base_uri": "https://localhost:8080/"
        },
        "id": "4N4uMJL04-cg",
        "outputId": "29c7ca4f-6eef-4bdb-cc8e-b037d70d9143"
      },
      "execution_count": null,
      "outputs": [
        {
          "output_type": "stream",
          "name": "stdout",
          "text": [
            "Name Alice\n",
            "Updated age: 31\n",
            "name:Alice\n",
            "age:31\n",
            "city:New York\n"
          ]
        }
      ]
    },
    {
      "cell_type": "code",
      "source": [
        "#Dictionary comprehension to create a dictionary of squares\n",
        "numbers = [1, 2, 3, 4, 5]\n",
        "square_dict = {num: num**2 for num in numbers}\n",
        "print(\"Dictionary of squares:\", square_dict)"
      ],
      "metadata": {
        "colab": {
          "base_uri": "https://localhost:8080/"
        },
        "id": "ubEUwSNc7rI_",
        "outputId": "a9081134-77bd-4b42-dda4-be0a697ab1d5"
      },
      "execution_count": null,
      "outputs": [
        {
          "output_type": "stream",
          "name": "stdout",
          "text": [
            "Dictionary of squares: {1: 1, 2: 4, 3: 9, 4: 16, 5: 25}\n"
          ]
        }
      ]
    },
    {
      "cell_type": "code",
      "source": [
        "person = {'name':'Alice','age':30}\n",
        "\n",
        "#Using get() method to handle missing keys\n",
        "city = person.get('city', 'Unknown')\n",
        "print(\"City:\", city)"
      ],
      "metadata": {
        "colab": {
          "base_uri": "https://localhost:8080/"
        },
        "id": "cTIQXtvJ9L2H",
        "outputId": "9dc6d954-4e52-44c6-f781-d40091f71ec2"
      },
      "execution_count": null,
      "outputs": [
        {
          "output_type": "stream",
          "name": "stdout",
          "text": [
            "City: Unknown\n"
          ]
        }
      ]
    },
    {
      "cell_type": "code",
      "source": [
        "#Dictionary of lists: Mappingcities to their temperatures\n",
        "cities = {\n",
        "    'New York' : [32, 25, 30, 28, 35],\n",
        "    'Los Angeles' : [75, 68, 72, 70, 80],\n",
        "    'Chicago' : [20, 18, 22, 25, 15]\n",
        "}\n",
        "\n",
        "#Calculate average temperature for each city\n",
        "averages = {city: sum(temps) / len(temps) for city, temps in cities.items()}\n",
        "print(\"Average temperatures:\", averages)\n",
        "# Output: {'New York' : 30.0 'Los Angeles':73.0, 'Chicago':20.0}"
      ],
      "metadata": {
        "colab": {
          "base_uri": "https://localhost:8080/"
        },
        "id": "Ki0vTLmf93B1",
        "outputId": "2213aaf1-675f-4a48-9c3b-a7db141f6f64"
      },
      "execution_count": null,
      "outputs": [
        {
          "output_type": "stream",
          "name": "stdout",
          "text": [
            "Average temperatures: {'New York': 30.0, 'Los Angeles': 73.0, 'Chicago': 20.0}\n"
          ]
        }
      ]
    },
    {
      "cell_type": "code",
      "source": [],
      "metadata": {
        "id": "mIWRA5fp_s7N"
      },
      "execution_count": null,
      "outputs": []
    }
  ]
}